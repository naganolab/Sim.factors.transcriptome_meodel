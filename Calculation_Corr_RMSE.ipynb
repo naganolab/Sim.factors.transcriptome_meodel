{
  "cells": [
    {
      "cell_type": "code",
      "execution_count": 4,
      "metadata": {},
      "outputs": [],
      "source": [
        "import dask.dataframe as dd\n",
        "import numpy as np\n",
        "import pandas as pd"
      ]
    },
    {
      "cell_type": "code",
      "execution_count": 5,
      "metadata": {
        "id": "9On2aHvFGF4B"
      },
      "outputs": [],
      "source": [
        "df_All_Path = r\"df_all_fit_filterd.csv\"\n",
        "\n",
        "usecols = ['FIT_Test_Value', 'ALTC', 'EnvCount', 'Gene','Temperature', 'Radiation', 'FIT_Reference_Value', 'Date']\n",
        "\n",
        "\n",
        "df = dd.read_csv(df_All_Path,assume_missing=True, usecols=usecols,dtype={'FIT_Test_Value': float,'ALTC': str,'EnvCount': str,'Gene': str, \"Temperature\":float , \"Radiation\":float ,\n",
        "       \"FIT_Correct_Value\": float}).compute()"
      ]
    },
    {
      "cell_type": "code",
      "execution_count": 6,
      "metadata": {
        "colab": {
          "base_uri": "https://localhost:8080/"
        },
        "id": "nrcZmzhdKKX6",
        "outputId": "5eb2db5a-dcac-40bc-9f2d-b1b45101193a"
      },
      "outputs": [],
      "source": [
        "Corr_df = df.groupby(['ALTC', 'Gene']).apply(lambda x: x['FIT_Test_Value'].corr(x['FIT_Reference_Value'])).reset_index(name='Corr')\n",
        "\n",
        "def calculate_rmse(group):\n",
        "    actual = group['FIT_Reference_Value']\n",
        "    predicted = group['FIT_Test_Value']\n",
        "    mse = np.mean((actual - predicted) ** 2)\n",
        "    rmse = np.sqrt(mse)\n",
        "    return rmse\n",
        "\n",
        "RMSE_df = df.groupby(['ALTC', 'Gene']).apply(calculate_rmse).reset_index(name='RMSE')\n",
        "\n",
        "df_all = pd.merge(Corr_df,RMSE_df,how=\"inner\",on = [\"ALTC\",\"Gene\"])"
      ]
    },
    {
      "cell_type": "code",
      "execution_count": 7,
      "metadata": {},
      "outputs": [],
      "source": [
        "df_all.to_csv(r\"df_CorrRMSE.csv\", index = False)"
      ]
    }
  ],
  "metadata": {
    "accelerator": "GPU",
    "colab": {
      "gpuType": "T4",
      "provenance": []
    },
    "kernelspec": {
      "display_name": "Python 3",
      "name": "python3"
    },
    "language_info": {
      "codemirror_mode": {
        "name": "ipython",
        "version": 3
      },
      "file_extension": ".py",
      "mimetype": "text/x-python",
      "name": "python",
      "nbconvert_exporter": "python",
      "pygments_lexer": "ipython3",
      "version": "3.9.7"
    }
  },
  "nbformat": 4,
  "nbformat_minor": 0
}
