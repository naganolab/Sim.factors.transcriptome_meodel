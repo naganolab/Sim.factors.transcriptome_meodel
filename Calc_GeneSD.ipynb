{
 "cells": [
  {
   "cell_type": "code",
   "execution_count": 1,
   "metadata": {},
   "outputs": [],
   "source": [
    "import rdata\n",
    "import pandas as pd\n",
    "import glob\n",
    "import re\n",
    "import os \n",
    "import dask.dataframe as dd\n",
    "import statistics\n",
    "import numpy as np\n",
    "\n",
    "from statistics import mean\n",
    "\n",
    "from sklearn.metrics import r2_score"
   ]
  },
  {
   "cell_type": "code",
   "execution_count": 3,
   "metadata": {},
   "outputs": [],
   "source": [
    "# Read the matrix of measured values used to create the RefFIT model\n",
    "RefFIT_Measurement_Path = r\"data\\RefFIT_MeasurementValue.csv\" \n",
    "RefFIT_Measurement_Matrix = dd.read_csv(RefFIT_Measurement_Path,assume_missing=True, sample=1000000).compute()\n",
    "\n",
    "RefFIT_Pridiction_Path = r\"data\\RefFIT_PridictionValue.csv\"\n",
    "RefFIT_Pridiction_Matrix = dd.read_csv(RefFIT_Pridiction_Path , assume_missing=True, sample=1000000).compute()"
   ]
  },
  {
   "cell_type": "code",
   "execution_count": 4,
   "metadata": {},
   "outputs": [],
   "source": [
    "# Erase trailing content from column name (Gene) of predicted value\n",
    "Analysis_Gene_List = list(RefFIT_Pridiction_Matrix.columns)\n",
    "Analysis_Gene_List = [item[:-len('.radiation')] if item.endswith('.radiation') else item[:-len('.temperature')] if item.endswith('.temperature') else item for item in Analysis_Gene_List]\n",
    "RefFIT_Pridiction_Matrix.columns = Analysis_Gene_List\n",
    "\n",
    "# Match the number of genes in the matrix of measured values and the matrix of predicted values.\n",
    "RefFIT_Measurement_Matrix = RefFIT_Measurement_Matrix[Analysis_Gene_List]"
   ]
  },
  {
   "cell_type": "code",
   "execution_count": 5,
   "metadata": {},
   "outputs": [],
   "source": [
    "df_SD_List = []\n",
    "\n",
    "for Gene in Analysis_Gene_List:\n",
    "    \n",
    "    Measurement_Expression_List = list(RefFIT_Measurement_Matrix[Gene])\n",
    "    Pridiction_Expression_List = list(RefFIT_Pridiction_Matrix[Gene])\n",
    "    \n",
    "    residuals = np.array(Measurement_Expression_List) - np.array(Pridiction_Expression_List)\n",
    "\n",
    "    std_deviation = np.std(residuals)\n",
    "\n",
    "    df_SD_List.append([Gene , std_deviation])\n",
    "    \n",
    "\n",
    "df_SD = pd.DataFrame(df_SD_List , columns=[\"Gene\" , \"SD\"])"
   ]
  },
  {
   "cell_type": "code",
   "execution_count": 6,
   "metadata": {},
   "outputs": [],
   "source": [
    "df_SD.to_csv(r\"SD.csv\" , index = False)"
   ]
  }
 ],
 "metadata": {
  "kernelspec": {
   "display_name": "base",
   "language": "python",
   "name": "python3"
  },
  "language_info": {
   "codemirror_mode": {
    "name": "ipython",
    "version": 3
   },
   "file_extension": ".py",
   "mimetype": "text/x-python",
   "name": "python",
   "nbconvert_exporter": "python",
   "pygments_lexer": "ipython3",
   "version": "3.10.11"
  }
 },
 "nbformat": 4,
 "nbformat_minor": 2
}
