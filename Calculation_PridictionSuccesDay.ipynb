{
 "cells": [
  {
   "cell_type": "code",
   "execution_count": 1,
   "metadata": {},
   "outputs": [],
   "source": [
    "import pandas as pd\n",
    "import os \n",
    "import dask.dataframe as dd\n",
    "import numpy as np\n",
    "from dask.diagnostics import ProgressBar\n",
    "import gc\n",
    "import glob\n",
    "import matplotlib.pyplot as plt\n",
    "import math\n",
    "import seaborn as sns\n",
    "import sys\n",
    "import re\n",
    "import rdata\n",
    "import statistics\n",
    "import scipy.stats\n",
    "import collections\n",
    "\n",
    "from decimal import Decimal, ROUND_HALF_UP\n",
    "\n",
    "from statistics import mean, median,variance,stdev\n",
    "\n",
    "from sklearn.metrics import mean_squared_error"
   ]
  },
  {
   "cell_type": "code",
   "execution_count": 3,
   "metadata": {},
   "outputs": [],
   "source": [
    "df_All_Path = r\"df_all_fit_filterd.csv\"\n",
    "\n",
    "usecols = ['FIT_Test_Value', 'ALTC', 'EnvCount', 'Gene','Temperature', 'Radiation', 'FIT_Reference_Value', 'Date']\n",
    "\n",
    "\n",
    "df = dd.read_csv(df_All_Path,assume_missing=True, usecols=usecols,dtype={'FIT_Test_Value': float,'ALTC': str,'EnvCount': str,\n",
    "'Gene': str, \"Temperature\":float , \"Radiation\":float ,\"FIT_Reference_Value\": float}).compute()\n",
    "\n",
    "df['Date(NoHour)'] = pd.to_datetime(df['Date']).dt.date"
   ]
  },
  {
   "cell_type": "code",
   "execution_count": 5,
   "metadata": {},
   "outputs": [],
   "source": [
    "Corr_df = df.groupby(['ALTC', 'Gene' , \"Date(NoHour)\"]).apply(lambda x: x['FIT_Test_Value'].corr(x['FIT_Reference_Value'])).reset_index(name='Corr')\n",
    "\n",
    "def calculate_rmse(group):\n",
    "    actual = group['FIT_Reference_Value']\n",
    "    predicted = group['FIT_Test_Value']\n",
    "    mse = np.mean((actual - predicted) ** 2)\n",
    "    rmse = np.sqrt(mse)\n",
    "    return rmse\n",
    "\n",
    "RMSE_df = df.groupby(['ALTC', 'Gene' , \"Date(NoHour)\"]).apply(calculate_rmse).reset_index(name='RMSE')\n",
    "\n",
    "df_all = pd.merge(Corr_df,RMSE_df,how=\"inner\",on = ['ALTC', 'Gene' , \"Date(NoHour)\"])"
   ]
  },
  {
   "cell_type": "code",
   "execution_count": 6,
   "metadata": {},
   "outputs": [],
   "source": [
    "df_all['Corr_Success'] = df_all['Corr'].apply(lambda x: 1 if x > 0.8 else 0)\n",
    "\n",
    "df_all['RMSE_Success'] = df_all['RMSE'].apply(lambda x: 1 if x < 0.4 else 0)\n",
    "\n",
    "df_all['Pridiciton_Success'] = ((df_all['Corr'] > 0.8) & (df_all['RMSE'] < 0.4)).astype(int)"
   ]
  },
  {
   "cell_type": "code",
   "execution_count": 7,
   "metadata": {},
   "outputs": [],
   "source": [
    "df_all.to_csv(r\"df_Pridiciton_Success_Day.csv\", index = False)"
   ]
  }
 ],
 "metadata": {
  "kernelspec": {
   "display_name": "base",
   "language": "python",
   "name": "python3"
  },
  "language_info": {
   "codemirror_mode": {
    "name": "ipython",
    "version": 3
   },
   "file_extension": ".py",
   "mimetype": "text/x-python",
   "name": "python",
   "nbconvert_exporter": "python",
   "pygments_lexer": "ipython3",
   "version": "3.9.7"
  }
 },
 "nbformat": 4,
 "nbformat_minor": 2
}
