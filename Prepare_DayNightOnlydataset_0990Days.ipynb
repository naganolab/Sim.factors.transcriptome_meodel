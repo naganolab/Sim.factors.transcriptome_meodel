{
 "cells": [
  {
   "cell_type": "code",
   "execution_count": null,
   "metadata": {},
   "outputs": [],
   "source": [
    "import pandas as pd\n",
    "import os \n",
    "import dask.dataframe as dd\n",
    "import numpy as np\n",
    "from dask.diagnostics import ProgressBar\n",
    "import gc\n",
    "import glob\n",
    "import matplotlib.pyplot as plt\n",
    "import math\n",
    "import seaborn as sns\n",
    "import sys\n",
    "import re\n",
    "import rdata\n",
    "import statistics\n",
    "import scipy.stats\n",
    "import collections\n",
    "\n",
    "from decimal import Decimal, ROUND_HALF_UP\n",
    "\n",
    "from statistics import mean, median,variance,stdev\n",
    "\n",
    "from sklearn.metrics import mean_squared_error"
   ]
  },
  {
   "cell_type": "code",
   "execution_count": null,
   "metadata": {},
   "outputs": [],
   "source": [
    "def ExtractEnvCount_FromALTC(DATAFRAME):\n",
    "    \n",
    "    ALTC_List = list(DATAFRAME[\"ALTC\"])\n",
    "\n",
    "    EnvCount_List = []\n",
    "\n",
    "    for ALTC in ALTC_List:\n",
    "        \n",
    "        EnvCount = re.findall(r\"ALTC_(\\w+)_\\d{3}\", ALTC)[0]\n",
    "        \n",
    "        EnvCount_List.append(EnvCount)\n",
    "    \n",
    "    DATAFRAME[\"EnvCount\"] = EnvCount_List    \n",
    "        \n",
    "    return DATAFRAME"
   ]
  },
  {
   "cell_type": "code",
   "execution_count": null,
   "metadata": {},
   "outputs": [],
   "source": [
    "df_TimeStep_Path =  r\"df_Pridiciton_Success_Day.csv\"\n",
    "df = dd.read_csv(df_TimeStep_Path , assume_missing=True, dtype = 'object').compute()\n",
    "df = ExtractEnvCount_FromALTC(df)\n",
    "df = df[['ALTC', 'Gene','Date(NoHour)','Pridiciton_Success', 'EnvCount']]"
   ]
  },
  {
   "cell_type": "code",
   "execution_count": null,
   "metadata": {},
   "outputs": [],
   "source": [
    "df_08 = df[df[\"EnvCount\"] == \"08\"]\n",
    "df_08Night = df[df[\"EnvCount\"] == \"08Night\"]\n",
    "df_08Day = df[df[\"EnvCount\"] == \"08Day\"]\n",
    "\n",
    "# Count the number of days of successful predictions at each ALTC and Gene\n",
    "df_08_gb = df_08.groupby([\"ALTC\" , 'Gene' , \"Pridiciton_Success\"], as_index=False).count()\n",
    "df_08_gb = df_08_gb[df_08_gb[\"Pridiciton_Success\"] == \"1\"]\n",
    "df_08_gb = df_08_gb[['ALTC', 'Gene', 'Date(NoHour)']]\n",
    "df_08_gb = df_08_gb.rename(columns={'Date(NoHour)': 'Pridiction_Success_Control'})\n",
    "\n",
    "df_08Night_gb = df_08Night.groupby([\"ALTC\" , 'Gene' , \"Pridiciton_Success\"], as_index=False).count()\n",
    "df_08Night_gb = df_08Night_gb[df_08Night_gb[\"Pridiciton_Success\"] == \"1\"]\n",
    "df_08Night_gb = df_08Night_gb[['ALTC', 'Gene', 'Date(NoHour)']]\n",
    "df_08Night_gb = df_08Night_gb.rename(columns={'Date(NoHour)': 'Pridiction_Success_Night'})\n",
    "\n",
    "df_08Day_gb = df_08Day.groupby([\"ALTC\" , 'Gene' , \"Pridiciton_Success\"], as_index=False).count()\n",
    "df_08Day_gb = df_08Day_gb[df_08Day_gb[\"Pridiciton_Success\"] == \"1\"]\n",
    "df_08Day_gb = df_08Day_gb[['ALTC', 'Gene', 'Date(NoHour)']]\n",
    "df_08Day_gb = df_08Day_gb.rename(columns={'Date(NoHour)': 'Pridiction_Success_Day'})\n",
    "\n",
    "def Make_LackData(ALTC_LIST , GENE_LIST , TYPE):\n",
    "    \n",
    "    if TYPE == \"Control\":\n",
    "        \n",
    "        Pridiction_Type = \"Pridiction_Success_Control\"\n",
    "    elif TYPE == \"Day\":\n",
    "        Pridiction_Type = \"Pridiction_Success_Day\"\n",
    "    elif TYPE == \"Night\":\n",
    "        Pridiction_Type = \"Pridiction_Success_Night\"\n",
    "        \n",
    "    \n",
    "    df_LackData_List = []\n",
    "\n",
    "    for ALTC in ALTC_LIST:\n",
    "        for Gene in GENE_LIST:\n",
    "            df_LackData_List.append([ALTC, Gene , \"0\"])\n",
    "\n",
    "    df_LackData = pd.DataFrame(df_LackData_List , columns =['ALTC' , 'Gene' , Pridiction_Type])\n",
    "    \n",
    "    return df_LackData\n",
    "\n",
    "GeneList = list(set((list(set(df_08[\"Gene\"]))) + (list(set(df_08Night[\"Gene\"]))) +(list(set(df_08Day[\"Gene\"])))))\n",
    "\n",
    "df_LackData_08 = Make_LackData(list(set(df_08[\"ALTC\"])) , GeneList , \"Control\")\n",
    "df_LackData_08Night = Make_LackData(list(set(df_08Night[\"ALTC\"])) , GeneList , \"Night\")\n",
    "df_LackData_08Day = Make_LackData(list(set(df_08Day[\"ALTC\"])) , GeneList , \"Day\")\n",
    "\n",
    "df_08_gb_Concat = pd.concat([df_08_gb , df_LackData_08])\n",
    "df_08Night_gb_Concat = pd.concat([df_08Night_gb , df_LackData_08Night])\n",
    "df_08Day_gb_Concat = pd.concat([df_08Day_gb , df_LackData_08Day])\n",
    "\n",
    "df_08_gb_Duplicates = df_08_gb_Concat[~df_08_gb_Concat.duplicated(subset=['ALTC' , 'Gene'], keep=False)]\n",
    "df_08Night_gb_Duplicates = df_08Night_gb_Concat[~df_08Night_gb_Concat.duplicated(subset=['ALTC' , 'Gene'], keep=False)]\n",
    "df_08Day_gb_Duplicates = df_08Day_gb_Concat[~df_08Day_gb_Concat.duplicated(subset=['ALTC' , 'Gene'], keep=False)]\n",
    "\n",
    "df_08_gb = pd.concat([df_08_gb , df_08_gb_Duplicates])\n",
    "df_08Day_gb = pd.concat([df_08Day_gb , df_08Day_gb_Duplicates])\n",
    "df_08Night_gb = pd.concat([df_08Night_gb , df_08Night_gb_Duplicates])\n",
    "\n",
    "df_08_gb['ALTC_Number'] = df_08_gb['ALTC'].str[-3:]\n",
    "df_08Day_gb['ALTC_Number'] = df_08Day_gb['ALTC'].str[-3:]\n",
    "df_08Night_gb['ALTC_Number'] = df_08Night_gb['ALTC'].str[-3:]\n",
    "\n",
    "df_08DayCon_gb = pd.merge(df_08_gb , df_08Day_gb , how = \"inner\" , on = [\"ALTC_Number\" , \"Gene\"])\n",
    "df_08NightCon_gb = pd.merge(df_08_gb , df_08Night_gb , how = \"inner\" , on = [\"ALTC_Number\" , \"Gene\"])\n",
    "df_DayNight_gb = pd.merge(df_08Day_gb , df_08Night_gb , how = \"inner\" , on = [\"ALTC_Number\" , \"Gene\"])\n",
    "\n",
    "df_08DayCon_gb = df_08DayCon_gb.astype({'Pridiction_Success_Control': int , \"Pridiction_Success_Day\" : int})\n",
    "df_08NightCon_gb = df_08NightCon_gb.astype({'Pridiction_Success_Control': int , \"Pridiction_Success_Night\" : int})\n",
    "df_DayNight_gb = df_DayNight_gb.astype({'Pridiction_Success_Night': int , \"Pridiction_Success_Day\" : int})"
   ]
  },
  {
   "cell_type": "code",
   "execution_count": null,
   "metadata": {},
   "outputs": [],
   "source": [
    "# Con-Dayのscript\n",
    "df_08DayCon_gb = df_08DayCon_gb.rename(columns={'ALTC_x': 'ALTC_Control','ALTC_y': 'ALTC_Day'})\n",
    "\n",
    "df_08Day0Con9 = df_08DayCon_gb[(df_08DayCon_gb[\"Pridiction_Success_Control\"] == 9) & (df_08DayCon_gb[\"Pridiction_Success_Day\"] == 0)]\n",
    "df_08Day0Con9 = df_08Day0Con9[['ALTC_Control', 'Gene', 'ALTC_Day']]\n",
    "df_08Day0Con9[\"Type\"] = \"Day0Con9\"\n",
    "\n",
    "df_08Day9Con0 = df_08DayCon_gb[(df_08DayCon_gb[\"Pridiction_Success_Control\"] == 0) & (df_08DayCon_gb[\"Pridiction_Success_Day\"] == 9)]\n",
    "df_08Day9Con0 = df_08Day9Con0[['ALTC_Control', 'Gene', 'ALTC_Day']]\n",
    "df_08Day9Con0[\"Type\"] = \"Day9Con0\"\n",
    "\n",
    "\n",
    "# Con-Nightのscript\n",
    "df_08NightCon_gb = df_08NightCon_gb.rename(columns={'ALTC_x': 'ALTC_Control','ALTC_y': 'ALTC_Night'})\n",
    "\n",
    "df_08Night0Con9 = df_08NightCon_gb[(df_08NightCon_gb[\"Pridiction_Success_Control\"] == 9) & (df_08NightCon_gb[\"Pridiction_Success_Night\"] == 0)]\n",
    "df_08Night0Con9 = df_08Night0Con9[['ALTC_Control', 'Gene', 'ALTC_Night']]\n",
    "df_08Night0Con9[\"Type\"] = \"Night0Con9\"\n",
    "\n",
    "df_08Night9Con0 = df_08NightCon_gb[(df_08NightCon_gb[\"Pridiction_Success_Control\"] == 0) & (df_08NightCon_gb[\"Pridiction_Success_Night\"] == 9)]\n",
    "df_08Night9Con0 = df_08Night9Con0[['ALTC_Control', 'Gene', 'ALTC_Night']]\n",
    "df_08Night9Con0[\"Type\"] = \"Night9Con0\"\n",
    "\n",
    "\n",
    "# DayNigthのスクリプト\n",
    "df_DayNight_gb = df_DayNight_gb.rename(columns={'ALTC_x': 'ALTC_Day','ALTC_y': 'ALTC_Night'})\n",
    "\n",
    "df_Day0Night9_gb = df_DayNight_gb[(df_DayNight_gb[\"Pridiction_Success_Day\"] == 0) & (df_DayNight_gb[\"Pridiction_Success_Night\"] == 9)]\n",
    "df_Day0Night9_gb = df_Day0Night9_gb[['ALTC_Day', 'Gene', 'ALTC_Night']]\n",
    "df_Day0Night9_gb[\"Type\"] = \"Day0Night9\"\n",
    "\n",
    "df_Day9Night0_gb= df_DayNight_gb[(df_DayNight_gb[\"Pridiction_Success_Day\"] == 9) & (df_08NightCon_gb[\"Pridiction_Success_Night\"] == 0)]\n",
    "df_Day9Night0_gb = df_Day9Night0_gb[['ALTC_Day', 'Gene', 'ALTC_Night']]\n",
    "df_Day9Night0_gb[\"Type\"] = \"Day9Night0\""
   ]
  },
  {
   "cell_type": "code",
   "execution_count": null,
   "metadata": {},
   "outputs": [],
   "source": [
    "df_Day = pd.concat([df_08Day0Con9 , df_08Day9Con0])\n",
    "df_Night = pd.concat([df_08Night0Con9 , df_08Night9Con0])\n",
    "df_DayNight = pd.concat([df_Day0Night9_gb , df_Day9Night0_gb])\n",
    "\n",
    "df_Day = df_Day.rename({'ALTC_Day': 'ALTC_Experiment'}, axis='columns')\n",
    "df_Night = df_Night.rename({'ALTC_Night': 'ALTC_Experiment'}, axis='columns')\n",
    "\n",
    "df_Control_Experiment = pd.concat([df_Day , df_Night])"
   ]
  },
  {
   "cell_type": "code",
   "execution_count": null,
   "metadata": {},
   "outputs": [],
   "source": [
    "df_Control_Experiment.to_csv(r\"df_DayNight0Con9.csv\" , index=False)\n",
    "df_DayNight.to_csv(r\"df_DayNight09.csv\" , index=False)"
   ]
  },
  {
   "cell_type": "code",
   "execution_count": null,
   "metadata": {},
   "outputs": [],
   "source": [
    "df_All_Path = r\"df_all_fit_filterd.csv\"\n",
    "\n",
    "usecols = ['FIT_Test_Value', 'ALTC', 'EnvCount','Gene','Temperature', 'Radiation', 'FIT_Reference_Value', 'Date']\n",
    "\n",
    "df = dd.read_csv(df_All_Path,assume_missing=True, usecols=usecols,dtype={'FIT_Test_Value': float,'ALTC': str,'EnvCount': str,\n",
    "       'Gene': str, \"Temperature\":float , \"Radiation\":float ,\"FIT_Correct_Value\": float}).compute()\n",
    "\n",
    "df['Date(NoHour)'] = pd.to_datetime(df['Date']).dt.date"
   ]
  },
  {
   "cell_type": "code",
   "execution_count": null,
   "metadata": {},
   "outputs": [],
   "source": [
    "df_DayNight = df_DayNight.rename(columns={'ALTC_Day'  : 'ALTC_Control'  , \"ALTC_Night\" : \"ALTC_Experiment\"})\n",
    "df_0990 = pd.concat([df_Control_Experiment , df_DayNight])"
   ]
  },
  {
   "cell_type": "code",
   "execution_count": null,
   "metadata": {},
   "outputs": [],
   "source": [
    "df_all_list = []\n",
    "\n",
    "for DataType in (['Day0Con9' , 'Day9Con0', 'Night0Con9', 'Night9Con0' , \"Day0Night9\" , \"Day9Night0\"]):\n",
    "    \n",
    "    df_0990_2Dlist = (df_0990[df_0990[\"Type\"] == DataType]).to_numpy().tolist()\n",
    "\n",
    "    for SingleList in df_0990_2Dlist:\n",
    "        \n",
    "        ALTC_Control = SingleList[0]\n",
    "        ALTC_Experiment = SingleList[2]\n",
    "        Gene = SingleList[1]\n",
    "        DataType = SingleList[3]\n",
    "        \n",
    "        print(ALTC_Control, ALTC_Experiment, Gene)\n",
    "        \n",
    "        df_tmp1 = df[ (df[\"ALTC\"] == ALTC_Control) & (df[\"Gene\"] == Gene) ]\n",
    "        df_tmp1 = df_tmp1[[\"ALTC\" , \"Gene\" , \"FIT_Test_Value\" , \"Date\" , \"Date(NoHour)\"]]\n",
    "        df_tmp1 = df_tmp1.rename(columns={'FIT_Test_Value'  : 'FIT_Control_Value', \"ALTC\":\"ALTC_Control\"})\n",
    "        \n",
    "        df_tmp2 = df[ (df[\"ALTC\"] == ALTC_Experiment) & (df[\"Gene\"] == Gene) ]\n",
    "        df_tmp2 = df_tmp2[[\"ALTC\" , \"Gene\" , \"FIT_Test_Value\" , \"Date\" , \"Date(NoHour)\"]]\n",
    "        df_tmp2 = df_tmp2.rename(columns={'FIT_Test_Value'  : 'FIT_Experiment_Value'  , \"ALTC\":\"ALTC_Experiment\"})\n",
    "        \n",
    "        if (len(df_tmp1) != 108) or (len(df_tmp2) != 108):\n",
    "            pass\n",
    "        else:\n",
    "            df_tmp = pd.merge(df_tmp1 , df_tmp2 , on = [\"Date\" , \"Date(NoHour)\" , \"Gene\"])\n",
    "            df_tmp[\"Type\"] = DataType\n",
    "            df_all_list.append(df_tmp)\n",
    "\n",
    "df_all = pd.concat(df_all_list)            "
   ]
  },
  {
   "cell_type": "code",
   "execution_count": null,
   "metadata": {},
   "outputs": [],
   "source": [
    "df_all.to_csv(r\"DayNightOnlydataset_0990Days.csv\" , index = False)\n",
    "df_all = pd.read_csv(r\"DayNightOnlydataset_0990Days.csv\")"
   ]
  },
  {
   "cell_type": "code",
   "execution_count": null,
   "metadata": {},
   "outputs": [],
   "source": [
    "df_all[\"ALTC\"] = df_all['ALTC_Control'].str[-3:]"
   ]
  },
  {
   "cell_type": "code",
   "execution_count": null,
   "metadata": {},
   "outputs": [],
   "source": [
    "Corr_df = df_all.groupby(['ALTC', 'Gene' , \"Date(NoHour)\" , \"Type\"]).apply(lambda x: x['FIT_Control_Value'].corr(x['FIT_Experiment_Value'])).reset_index(name='Corr')\n",
    "\n",
    "def calculate_rmse(group):\n",
    "    actual = group['FIT_Control_Value']\n",
    "    predicted = group['FIT_Experiment_Value']\n",
    "    mse = np.mean((actual - predicted) ** 2)\n",
    "    rmse = np.sqrt(mse)\n",
    "    return rmse\n",
    "\n",
    "RMSE_df = df_all.groupby(['ALTC', 'Gene' , \"Date(NoHour)\", \"Type\"]).apply(calculate_rmse).reset_index(name='RMSE')"
   ]
  },
  {
   "cell_type": "code",
   "execution_count": null,
   "metadata": {},
   "outputs": [],
   "source": [
    "df_Corr_RMSE = pd.merge(Corr_df,RMSE_df,how=\"inner\",on = ['ALTC', 'Gene' , \"Date(NoHour)\" , \"Type\"])"
   ]
  },
  {
   "cell_type": "code",
   "execution_count": null,
   "metadata": {},
   "outputs": [],
   "source": [
    "df_Corr_RMSE['Corr_Success'] = df_Corr_RMSE['Corr'].apply(lambda x: 1 if x > 0.8 else 0)\n",
    "\n",
    "df_Corr_RMSE['RMSE_Success'] = df_Corr_RMSE['RMSE'].apply(lambda x: 1 if x < 0.4 else 0)\n",
    "\n",
    "df_Corr_RMSE['Pridiciton_Success'] = ((df_Corr_RMSE['Corr'] > 0.8) & (df_Corr_RMSE['RMSE'] < 0.4)).astype(int)"
   ]
  },
  {
   "cell_type": "code",
   "execution_count": null,
   "metadata": {},
   "outputs": [],
   "source": [
    "df_Corr_RMSE.to_csv(r\"DayNightOnlydataset_0990Days_PrdSucDay.csv\", index = False)"
   ]
  }
 ],
 "metadata": {
  "kernelspec": {
   "display_name": "base",
   "language": "python",
   "name": "python3"
  },
  "language_info": {
   "codemirror_mode": {
    "name": "ipython",
    "version": 3
   },
   "file_extension": ".py",
   "mimetype": "text/x-python",
   "name": "python",
   "nbconvert_exporter": "python",
   "pygments_lexer": "ipython3",
   "version": "3.9.7"
  }
 },
 "nbformat": 4,
 "nbformat_minor": 2
}
